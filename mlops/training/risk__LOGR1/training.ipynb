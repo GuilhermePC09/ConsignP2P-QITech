{
 "cells": [
  {
   "cell_type": "code",
   "execution_count": null,
   "id": "cccab4d8",
   "metadata": {},
   "outputs": [],
   "source": [
    "# --- Imports\n",
    "import os, json, math, warnings\n",
    "import numpy as np\n",
    "import pandas as pd\n",
    "from pathlib import Path\n",
    "\n",
    "from sklearn.model_selection import train_test_split, StratifiedKFold, GridSearchCV\n",
    "from sklearn.impute import SimpleImputer\n",
    "from sklearn.impute import SimpleImputer\n",
    "from sklearn.preprocessing import StandardScaler\n",
    "from sklearn.pipeline import Pipeline\n",
    "from sklearn.linear_model import LogisticRegression\n",
    "from sklearn.metrics import roc_auc_score, roc_curve, brier_score_loss\n",
    "from sklearn.calibration import calibration_curve, CalibratedClassifierCV\n",
    "\n",
    "import matplotlib.pyplot as plt\n",
    "\n",
    "warnings.filterwarnings('ignore')\n",
    "\n",
    "# --- Paths (ajuste se necessário)\n",
    "ROOT = Path.cwd()\n",
    "DATA_DIR = ROOT / 'data_audit' \n",
    "OUT_DIR = ROOT  / 'outputs'\n",
    "MODEL_DIR = OUT_DIR / 'models'\n",
    "REPORT_DIR = OUT_DIR / 'reports'\n",
    "PLOTS_DIR = OUT_DIR / 'plots'\n",
    "\n",
    "for d in [DATA_DIR, MODEL_DIR, REPORT_DIR, PLOTS_DIR]:\n",
    "    d.mkdir(parents=True, exist_ok=True)\n",
    "\n",
    "CSV_PATH = DATA_DIR / 'train_LOGR1.csv'\n",
    "\n",
    "FEATURE_ORDER = [\n",
    "    'beneficio_ativo','tempo_beneficio_meses',\n",
    "    'emprego_ativo','tempo_emprego_meses',\n",
    "    'renda_media_6m','coef_var_renda','pct_meses_saldo_neg_6m',\n",
    "    'utilizacao_cartao','pct_minimo_pago_3m','num_faturas_vencidas_3m',\n",
    "    'endividamento_total','parcelas_renda','DPD_max_12m',\n",
    "    'idade','tempo_rel_banco_meses'\n",
    "]\n",
    "\n",
    "TARGET_COL = 'default90'"
   ]
  },
  {
   "cell_type": "code",
   "execution_count": 40,
   "id": "e061af23",
   "metadata": {},
   "outputs": [
    {
     "name": "stdout",
     "output_type": "stream",
     "text": [
      "Carregado: /Users/guilhermepifferchristo/Desktop/ConsignP2P-QITech/mlops/training/risk__LOGR1/data_audit/train_LOGR1.csv -> (12000, 16)\n"
     ]
    },
    {
     "data": {
      "application/vnd.microsoft.datawrangler.viewer.v0+json": {
       "columns": [
        {
         "name": "index",
         "rawType": "int64",
         "type": "integer"
        },
        {
         "name": "beneficio_ativo",
         "rawType": "int64",
         "type": "integer"
        },
        {
         "name": "tempo_beneficio_meses",
         "rawType": "int64",
         "type": "integer"
        },
        {
         "name": "emprego_ativo",
         "rawType": "int64",
         "type": "integer"
        },
        {
         "name": "tempo_emprego_meses",
         "rawType": "int64",
         "type": "integer"
        },
        {
         "name": "renda_media_6m",
         "rawType": "float64",
         "type": "float"
        },
        {
         "name": "coef_var_renda",
         "rawType": "float64",
         "type": "float"
        },
        {
         "name": "pct_meses_saldo_neg_6m",
         "rawType": "float64",
         "type": "float"
        },
        {
         "name": "utilizacao_cartao",
         "rawType": "float64",
         "type": "float"
        },
        {
         "name": "pct_minimo_pago_3m",
         "rawType": "float64",
         "type": "float"
        },
        {
         "name": "num_faturas_vencidas_3m",
         "rawType": "int64",
         "type": "integer"
        },
        {
         "name": "endividamento_total",
         "rawType": "float64",
         "type": "float"
        },
        {
         "name": "parcelas_renda",
         "rawType": "float64",
         "type": "float"
        },
        {
         "name": "DPD_max_12m",
         "rawType": "int64",
         "type": "integer"
        },
        {
         "name": "idade",
         "rawType": "int64",
         "type": "integer"
        },
        {
         "name": "tempo_rel_banco_meses",
         "rawType": "int64",
         "type": "integer"
        },
        {
         "name": "default90",
         "rawType": "int64",
         "type": "integer"
        }
       ],
       "ref": "d0473e6d-17d4-436c-8e2d-60f8c342bef4",
       "rows": [
        [
         "0",
         "0",
         "0",
         "1",
         "20",
         "1655.15",
         "0.611",
         "0.592",
         "0.783",
         "0.589",
         "1",
         "15154.07",
         "0.47",
         "0",
         "24",
         "7",
         "1"
        ],
        [
         "1",
         "1",
         "24",
         "0",
         "0",
         "4231.61",
         "0.136",
         "0.135",
         "0.703",
         "0.262",
         "0",
         "48973.87",
         "0.424",
         "0",
         "70",
         "36",
         "0"
        ],
        [
         "2",
         "0",
         "0",
         "0",
         "0",
         "1205.3",
         "0.521",
         "0.595",
         "0.497",
         "0.291",
         "1",
         "5292.87",
         "0.435",
         "0",
         "62",
         "19",
         "0"
        ]
       ],
       "shape": {
        "columns": 16,
        "rows": 3
       }
      },
      "text/html": [
       "<div>\n",
       "<style scoped>\n",
       "    .dataframe tbody tr th:only-of-type {\n",
       "        vertical-align: middle;\n",
       "    }\n",
       "\n",
       "    .dataframe tbody tr th {\n",
       "        vertical-align: top;\n",
       "    }\n",
       "\n",
       "    .dataframe thead th {\n",
       "        text-align: right;\n",
       "    }\n",
       "</style>\n",
       "<table border=\"1\" class=\"dataframe\">\n",
       "  <thead>\n",
       "    <tr style=\"text-align: right;\">\n",
       "      <th></th>\n",
       "      <th>beneficio_ativo</th>\n",
       "      <th>tempo_beneficio_meses</th>\n",
       "      <th>emprego_ativo</th>\n",
       "      <th>tempo_emprego_meses</th>\n",
       "      <th>renda_media_6m</th>\n",
       "      <th>coef_var_renda</th>\n",
       "      <th>pct_meses_saldo_neg_6m</th>\n",
       "      <th>utilizacao_cartao</th>\n",
       "      <th>pct_minimo_pago_3m</th>\n",
       "      <th>num_faturas_vencidas_3m</th>\n",
       "      <th>endividamento_total</th>\n",
       "      <th>parcelas_renda</th>\n",
       "      <th>DPD_max_12m</th>\n",
       "      <th>idade</th>\n",
       "      <th>tempo_rel_banco_meses</th>\n",
       "      <th>default90</th>\n",
       "    </tr>\n",
       "  </thead>\n",
       "  <tbody>\n",
       "    <tr>\n",
       "      <th>0</th>\n",
       "      <td>0</td>\n",
       "      <td>0</td>\n",
       "      <td>1</td>\n",
       "      <td>20</td>\n",
       "      <td>1655.15</td>\n",
       "      <td>0.611</td>\n",
       "      <td>0.592</td>\n",
       "      <td>0.783</td>\n",
       "      <td>0.589</td>\n",
       "      <td>1</td>\n",
       "      <td>15154.07</td>\n",
       "      <td>0.470</td>\n",
       "      <td>0</td>\n",
       "      <td>24</td>\n",
       "      <td>7</td>\n",
       "      <td>1</td>\n",
       "    </tr>\n",
       "    <tr>\n",
       "      <th>1</th>\n",
       "      <td>1</td>\n",
       "      <td>24</td>\n",
       "      <td>0</td>\n",
       "      <td>0</td>\n",
       "      <td>4231.61</td>\n",
       "      <td>0.136</td>\n",
       "      <td>0.135</td>\n",
       "      <td>0.703</td>\n",
       "      <td>0.262</td>\n",
       "      <td>0</td>\n",
       "      <td>48973.87</td>\n",
       "      <td>0.424</td>\n",
       "      <td>0</td>\n",
       "      <td>70</td>\n",
       "      <td>36</td>\n",
       "      <td>0</td>\n",
       "    </tr>\n",
       "    <tr>\n",
       "      <th>2</th>\n",
       "      <td>0</td>\n",
       "      <td>0</td>\n",
       "      <td>0</td>\n",
       "      <td>0</td>\n",
       "      <td>1205.30</td>\n",
       "      <td>0.521</td>\n",
       "      <td>0.595</td>\n",
       "      <td>0.497</td>\n",
       "      <td>0.291</td>\n",
       "      <td>1</td>\n",
       "      <td>5292.87</td>\n",
       "      <td>0.435</td>\n",
       "      <td>0</td>\n",
       "      <td>62</td>\n",
       "      <td>19</td>\n",
       "      <td>0</td>\n",
       "    </tr>\n",
       "  </tbody>\n",
       "</table>\n",
       "</div>"
      ],
      "text/plain": [
       "   beneficio_ativo  tempo_beneficio_meses  emprego_ativo  tempo_emprego_meses  \\\n",
       "0                0                      0              1                   20   \n",
       "1                1                     24              0                    0   \n",
       "2                0                      0              0                    0   \n",
       "\n",
       "   renda_media_6m  coef_var_renda  pct_meses_saldo_neg_6m  utilizacao_cartao  \\\n",
       "0         1655.15           0.611                   0.592              0.783   \n",
       "1         4231.61           0.136                   0.135              0.703   \n",
       "2         1205.30           0.521                   0.595              0.497   \n",
       "\n",
       "   pct_minimo_pago_3m  num_faturas_vencidas_3m  endividamento_total  \\\n",
       "0               0.589                        1             15154.07   \n",
       "1               0.262                        0             48973.87   \n",
       "2               0.291                        1              5292.87   \n",
       "\n",
       "   parcelas_renda  DPD_max_12m  idade  tempo_rel_banco_meses  default90  \n",
       "0           0.470            0     24                      7          1  \n",
       "1           0.424            0     70                     36          0  \n",
       "2           0.435            0     62                     19          0  "
      ]
     },
     "execution_count": 40,
     "metadata": {},
     "output_type": "execute_result"
    }
   ],
   "source": [
    "# === Carregamento dos dados\n",
    "if CSV_PATH.exists():\n",
    "    df = pd.read_csv(CSV_PATH)\n",
    "    print(f'Carregado: {CSV_PATH} -> {df.shape}')\n",
    "\n",
    "# Garante presença das colunas esperadas\n",
    "for c in FEATURE_ORDER:\n",
    "    if c not in df.columns:\n",
    "        df[c] = 0.0\n",
    "\n",
    "# Salva a versão consolidada (útil para auditoria)\n",
    "df.to_csv(CSV_PATH, index=False)\n",
    "df.head(3)"
   ]
  },
  {
   "cell_type": "code",
   "execution_count": 41,
   "id": "251c0645",
   "metadata": {},
   "outputs": [
    {
     "name": "stdout",
     "output_type": "stream",
     "text": [
      "Carregado: /Users/guilhermepifferchristo/Desktop/ConsignP2P-QITech/mlops/training/risk__LOGR1/data_audit/train_LOGR1.csv -> (12000, 16)\n"
     ]
    },
    {
     "data": {
      "application/vnd.microsoft.datawrangler.viewer.v0+json": {
       "columns": [
        {
         "name": "index",
         "rawType": "int64",
         "type": "integer"
        },
        {
         "name": "beneficio_ativo",
         "rawType": "int64",
         "type": "integer"
        },
        {
         "name": "tempo_beneficio_meses",
         "rawType": "int64",
         "type": "integer"
        },
        {
         "name": "emprego_ativo",
         "rawType": "int64",
         "type": "integer"
        },
        {
         "name": "tempo_emprego_meses",
         "rawType": "int64",
         "type": "integer"
        },
        {
         "name": "renda_media_6m",
         "rawType": "float64",
         "type": "float"
        },
        {
         "name": "coef_var_renda",
         "rawType": "float64",
         "type": "float"
        },
        {
         "name": "pct_meses_saldo_neg_6m",
         "rawType": "float64",
         "type": "float"
        },
        {
         "name": "utilizacao_cartao",
         "rawType": "float64",
         "type": "float"
        },
        {
         "name": "pct_minimo_pago_3m",
         "rawType": "float64",
         "type": "float"
        },
        {
         "name": "num_faturas_vencidas_3m",
         "rawType": "int64",
         "type": "integer"
        },
        {
         "name": "endividamento_total",
         "rawType": "float64",
         "type": "float"
        },
        {
         "name": "parcelas_renda",
         "rawType": "float64",
         "type": "float"
        },
        {
         "name": "DPD_max_12m",
         "rawType": "int64",
         "type": "integer"
        },
        {
         "name": "idade",
         "rawType": "int64",
         "type": "integer"
        },
        {
         "name": "tempo_rel_banco_meses",
         "rawType": "int64",
         "type": "integer"
        },
        {
         "name": "default90",
         "rawType": "int64",
         "type": "integer"
        }
       ],
       "ref": "92545943-f35e-47cc-8f31-59c85dcdb376",
       "rows": [
        [
         "0",
         "0",
         "0",
         "1",
         "20",
         "1655.15",
         "0.611",
         "0.592",
         "0.783",
         "0.589",
         "1",
         "15154.07",
         "0.47",
         "0",
         "24",
         "7",
         "1"
        ],
        [
         "1",
         "1",
         "24",
         "0",
         "0",
         "4231.61",
         "0.136",
         "0.135",
         "0.703",
         "0.262",
         "0",
         "48973.87",
         "0.424",
         "0",
         "70",
         "36",
         "0"
        ],
        [
         "2",
         "0",
         "0",
         "0",
         "0",
         "1205.3",
         "0.521",
         "0.595",
         "0.497",
         "0.291",
         "1",
         "5292.87",
         "0.435",
         "0",
         "62",
         "19",
         "0"
        ]
       ],
       "shape": {
        "columns": 16,
        "rows": 3
       }
      },
      "text/html": [
       "<div>\n",
       "<style scoped>\n",
       "    .dataframe tbody tr th:only-of-type {\n",
       "        vertical-align: middle;\n",
       "    }\n",
       "\n",
       "    .dataframe tbody tr th {\n",
       "        vertical-align: top;\n",
       "    }\n",
       "\n",
       "    .dataframe thead th {\n",
       "        text-align: right;\n",
       "    }\n",
       "</style>\n",
       "<table border=\"1\" class=\"dataframe\">\n",
       "  <thead>\n",
       "    <tr style=\"text-align: right;\">\n",
       "      <th></th>\n",
       "      <th>beneficio_ativo</th>\n",
       "      <th>tempo_beneficio_meses</th>\n",
       "      <th>emprego_ativo</th>\n",
       "      <th>tempo_emprego_meses</th>\n",
       "      <th>renda_media_6m</th>\n",
       "      <th>coef_var_renda</th>\n",
       "      <th>pct_meses_saldo_neg_6m</th>\n",
       "      <th>utilizacao_cartao</th>\n",
       "      <th>pct_minimo_pago_3m</th>\n",
       "      <th>num_faturas_vencidas_3m</th>\n",
       "      <th>endividamento_total</th>\n",
       "      <th>parcelas_renda</th>\n",
       "      <th>DPD_max_12m</th>\n",
       "      <th>idade</th>\n",
       "      <th>tempo_rel_banco_meses</th>\n",
       "      <th>default90</th>\n",
       "    </tr>\n",
       "  </thead>\n",
       "  <tbody>\n",
       "    <tr>\n",
       "      <th>0</th>\n",
       "      <td>0</td>\n",
       "      <td>0</td>\n",
       "      <td>1</td>\n",
       "      <td>20</td>\n",
       "      <td>1655.15</td>\n",
       "      <td>0.611</td>\n",
       "      <td>0.592</td>\n",
       "      <td>0.783</td>\n",
       "      <td>0.589</td>\n",
       "      <td>1</td>\n",
       "      <td>15154.07</td>\n",
       "      <td>0.470</td>\n",
       "      <td>0</td>\n",
       "      <td>24</td>\n",
       "      <td>7</td>\n",
       "      <td>1</td>\n",
       "    </tr>\n",
       "    <tr>\n",
       "      <th>1</th>\n",
       "      <td>1</td>\n",
       "      <td>24</td>\n",
       "      <td>0</td>\n",
       "      <td>0</td>\n",
       "      <td>4231.61</td>\n",
       "      <td>0.136</td>\n",
       "      <td>0.135</td>\n",
       "      <td>0.703</td>\n",
       "      <td>0.262</td>\n",
       "      <td>0</td>\n",
       "      <td>48973.87</td>\n",
       "      <td>0.424</td>\n",
       "      <td>0</td>\n",
       "      <td>70</td>\n",
       "      <td>36</td>\n",
       "      <td>0</td>\n",
       "    </tr>\n",
       "    <tr>\n",
       "      <th>2</th>\n",
       "      <td>0</td>\n",
       "      <td>0</td>\n",
       "      <td>0</td>\n",
       "      <td>0</td>\n",
       "      <td>1205.30</td>\n",
       "      <td>0.521</td>\n",
       "      <td>0.595</td>\n",
       "      <td>0.497</td>\n",
       "      <td>0.291</td>\n",
       "      <td>1</td>\n",
       "      <td>5292.87</td>\n",
       "      <td>0.435</td>\n",
       "      <td>0</td>\n",
       "      <td>62</td>\n",
       "      <td>19</td>\n",
       "      <td>0</td>\n",
       "    </tr>\n",
       "  </tbody>\n",
       "</table>\n",
       "</div>"
      ],
      "text/plain": [
       "   beneficio_ativo  tempo_beneficio_meses  emprego_ativo  tempo_emprego_meses  \\\n",
       "0                0                      0              1                   20   \n",
       "1                1                     24              0                    0   \n",
       "2                0                      0              0                    0   \n",
       "\n",
       "   renda_media_6m  coef_var_renda  pct_meses_saldo_neg_6m  utilizacao_cartao  \\\n",
       "0         1655.15           0.611                   0.592              0.783   \n",
       "1         4231.61           0.136                   0.135              0.703   \n",
       "2         1205.30           0.521                   0.595              0.497   \n",
       "\n",
       "   pct_minimo_pago_3m  num_faturas_vencidas_3m  endividamento_total  \\\n",
       "0               0.589                        1             15154.07   \n",
       "1               0.262                        0             48973.87   \n",
       "2               0.291                        1              5292.87   \n",
       "\n",
       "   parcelas_renda  DPD_max_12m  idade  tempo_rel_banco_meses  default90  \n",
       "0           0.470            0     24                      7          1  \n",
       "1           0.424            0     70                     36          0  \n",
       "2           0.435            0     62                     19          0  "
      ]
     },
     "execution_count": 41,
     "metadata": {},
     "output_type": "execute_result"
    }
   ],
   "source": [
    "# === Carregamento dos dados\n",
    "if CSV_PATH.exists():\n",
    "    df = pd.read_csv(CSV_PATH)\n",
    "    print(f'Carregado: {CSV_PATH} -> {df.shape}')\n",
    "else:\n",
    "    # Fallback: gera dataset sintético para rodar o notebook.\n",
    "    rng = np.random.default_rng(42)\n",
    "    n = 2000\n",
    "    df = pd.DataFrame({\n",
    "        'beneficio_ativo': rng.integers(0,2,size=n),\n",
    "        'tempo_beneficio_meses': rng.normal(120, 60, n).clip(0, 480),\n",
    "        'emprego_ativo': rng.integers(0,2,size=n),\n",
    "        'tempo_emprego_meses': rng.normal(48, 30, n).clip(0, 360),\n",
    "        'renda_media_6m': rng.normal(4000, 1500, n).clip(800, 20000),\n",
    "        'coef_var_renda': rng.normal(0.2, 0.1, n).clip(0, 1.0),\n",
    "        'pct_meses_saldo_neg_6m': rng.normal(0.15, 0.2, n).clip(0, 1.0),\n",
    "        'utilizacao_cartao': rng.normal(0.45, 0.25, n).clip(0, 2.0),\n",
    "        'pct_minimo_pago_3m': rng.normal(0.12, 0.15, n).clip(0, 1.0),\n",
    "        'num_faturas_vencidas_3m': rng.poisson(0.3, n),\n",
    "        'endividamento_total': rng.normal(7000, 6000, n).clip(0, 100000),\n",
    "        'parcelas_renda': rng.normal(0.25, 0.15, n).clip(0, 1.5),\n",
    "        'DPD_max_12m': rng.integers(0, 120, size=n),\n",
    "        'idade': rng.integers(18, 85, size=n),\n",
    "        'tempo_rel_banco_meses': rng.integers(1, 360, size=n)\n",
    "    })\n",
    "    print('**Dataset sintético gerado (fallback)**:', df.shape)\n",
    "    \n",
    "# Garante presença das colunas esperadas\n",
    "for c in FEATURE_ORDER:\n",
    "    if c not in df.columns:\n",
    "        df[c] = 0.0\n",
    "\n",
    "# Se não houver target real, gera um label proxy simples\n",
    "if TARGET_COL not in df.columns:\n",
    "    # Regras proxy (exemplo simples para demo):\n",
    "    cond = (\n",
    "        (df['DPD_max_12m'] >= 60) |\n",
    "        (df['num_faturas_vencidas_3m'] >= 1) |\n",
    "        ((df['utilizacao_cartao'] >= 0.9) & (df['coef_var_renda'] >= 0.3))\n",
    "    )\n",
    "    df[TARGET_COL] = np.where(cond, 1, 0).astype(int)\n",
    "    print('**Label proxy criado (default90)** — substitua por rótulo real quando disponível.')\n",
    "\n",
    "# Salva a versão consolidada (útil para auditoria)\n",
    "df.to_csv(CSV_PATH, index=False)\n",
    "df.head(3)\n"
   ]
  },
  {
   "cell_type": "code",
   "execution_count": 62,
   "id": "14245a68",
   "metadata": {},
   "outputs": [
    {
     "name": "stdout",
     "output_type": "stream",
     "text": [
      "{'AUC': 0.6909, 'KS': 0.2823, 'Brier': 0.220662}\n"
     ]
    }
   ],
   "source": [
    "# === Split e pipeline LOGR1\n",
    "from sklearn.compose import ColumnTransformer\n",
    "from sklearn.preprocessing import PolynomialFeatures, QuantileTransformer, RobustScaler\n",
    "\n",
    "\n",
    "X = df[FEATURE_ORDER].astype(float).values\n",
    "y = df[TARGET_COL].astype(int).values\n",
    "\n",
    "X_train, X_test, y_train, y_test = train_test_split(\n",
    "    X, y, test_size=0.2, random_state=42, stratify=y\n",
    ")\n",
    "\n",
    "poly_features = ['utilizacao_cartao','pct_minimo_pago_3m','parcelas_renda','coef_var_renda']\n",
    "poly_idx = [FEATURE_ORDER.index(c) for c in poly_features]\n",
    "\n",
    "poly = ColumnTransformer([\n",
    "    ('poly', PolynomialFeatures(degree=2, include_bias=False), poly_idx),\n",
    "    ('others', 'passthrough', [i for i in range(len(FEATURE_ORDER)) if i not in poly_idx])\n",
    "])\n",
    "\n",
    "pipe = Pipeline(steps=[\n",
    "    ('imputer', SimpleImputer(strategy='median')),\n",
    "    ('poly', poly),\n",
    "    ('scaler', RobustScaler()),\n",
    "    ('clf', LogisticRegression(\n",
    "        solver='saga',\n",
    "        penalty='elasticnet',\n",
    "        l1_ratio=0.3,   \n",
    "        C=0.8,\n",
    "        class_weight='balanced',\n",
    "        max_iter=8000,\n",
    "        tol=1e-6,\n",
    "        random_state=42\n",
    "    ))\n",
    "])\n",
    "\n",
    "pipe.fit(X_train, y_train)\n",
    "\n",
    "pd_test = pipe.predict_proba(X_test)[:, 1]\n",
    "\n",
    "auc = roc_auc_score(y_test, pd_test)\n",
    "brier = brier_score_loss(y_test, pd_test)\n",
    "\n",
    "# KS\n",
    "fpr, tpr, thr = roc_curve(y_test, pd_test)\n",
    "ks = np.max(tpr - fpr)\n",
    "\n",
    "print({'AUC': round(auc, 4), 'KS': round(float(ks), 4), 'Brier': round(brier, 6)})\n"
   ]
  },
  {
   "cell_type": "code",
   "execution_count": 63,
   "id": "aa8bf82f",
   "metadata": {},
   "outputs": [
    {
     "data": {
      "image/png": "[encoded data removed]",
      "text/plain": [
       "<Figure size 600x500 with 1 Axes>"
      ]
     },
     "metadata": {},
     "output_type": "display_data"
    },
    {
     "data": {
      "image/png": "[encoded data removed]",
      "text/plain": [
       "<Figure size 600x500 with 1 Axes>"
      ]
     },
     "metadata": {},
     "output_type": "display_data"
    }
   ],
   "source": [
    "# === Plots: ROC e Curva de Calibração\n",
    "# ROC\n",
    "fpr, tpr, thr = roc_curve(y_test, pd_test)\n",
    "plt.figure(figsize=(6,5))\n",
    "plt.plot(fpr, tpr, linewidth=2)\n",
    "plt.plot([0,1],[0,1], linestyle='--')\n",
    "plt.title('ROC')\n",
    "plt.xlabel('FPR')\n",
    "plt.ylabel('TPR')\n",
    "plt.grid(True)\n",
    "plt.show()\n",
    "\n",
    "# Calibração (reliability curve)\n",
    "prob_true, prob_pred = calibration_curve(y_test, pd_test, n_bins=10, strategy='quantile')\n",
    "plt.figure(figsize=(6,5))\n",
    "plt.plot(prob_pred, prob_true, marker='o', linewidth=2)\n",
    "plt.plot([0,1],[0,1], linestyle='--')\n",
    "plt.title('Calibração (Reliability)')\n",
    "plt.xlabel('PD previsto')\n",
    "plt.ylabel('Fração positiva')\n",
    "plt.grid(True)\n",
    "plt.show()\n"
   ]
  },
  {
   "cell_type": "code",
   "execution_count": 65,
   "id": "f81a8b51",
   "metadata": {},
   "outputs": [
    {
     "name": "stdout",
     "output_type": "stream",
     "text": [
      "{'AUC_cal': 0.692, 'KS_cal': 0.2724, 'Brier_cal': 0.106214}\n"
     ]
    },
    {
     "data": {
      "image/png": "[encoded data removed]",
      "text/plain": [
       "<Figure size 600x500 with 1 Axes>"
      ]
     },
     "metadata": {},
     "output_type": "display_data"
    }
   ],
   "source": [
    "# === (Opcional) Calibração via Isotonic ou Sigmoid\n",
    "do_calibrate = True\n",
    "\n",
    "if do_calibrate:\n",
    "    calibrator = CalibratedClassifierCV(pipe, method='isotonic', cv=3)\n",
    "    calibrator.fit(X_train, y_train)\n",
    "    pd_test_cal = calibrator.predict_proba(X_test)[:,1]\n",
    "    auc_cal = roc_auc_score(y_test, pd_test_cal)\n",
    "    brier_cal = brier_score_loss(y_test, pd_test_cal)\n",
    "    fpr_c, tpr_c, _ = roc_curve(y_test, pd_test_cal)\n",
    "    ks_cal = np.max(tpr_c - fpr_c)\n",
    "    print({'AUC_cal': round(auc_cal,4), 'KS_cal': round(float(ks_cal),4), 'Brier_cal': round(brier_cal,6)})\n",
    "    \n",
    "    # Plot calibração pós-ajuste\n",
    "    prob_true_c, prob_pred_c = calibration_curve(y_test, pd_test_cal, n_bins=10, strategy='quantile')\n",
    "    plt.figure(figsize=(6,5))\n",
    "    plt.plot(prob_pred_c, prob_true_c, marker='o', linewidth=2)\n",
    "    plt.plot([0,1],[0,1], linestyle='--')\n",
    "    plt.title('Calibração após ajuste (Isotonic)')\n",
    "    plt.xlabel('PD previsto calibrado')\n",
    "    plt.ylabel('Fração positiva')\n",
    "    plt.grid(True)\n",
    "    plt.show()\n",
    "else:\n",
    "    calibrator = None\n"
   ]
  },
  {
   "cell_type": "code",
   "execution_count": 66,
   "id": "4bf526d9",
   "metadata": {},
   "outputs": [
    {
     "name": "stdout",
     "output_type": "stream",
     "text": [
      "Modelo salvo em: /Users/guilhermepifferchristo/Desktop/ConsignP2P-QITech/mlops/training/risk__LOGR1/outputs/models/pd_logr1.joblib\n",
      "Relatório salvo em: /Users/guilhermepifferchristo/Desktop/ConsignP2P-QITech/mlops/training/risk__LOGR1/outputs/reports/risco_baseline.json\n"
     ]
    }
   ],
   "source": [
    "# === Salvar artefatos\n",
    "import joblib, hashlib, time\n",
    "\n",
    "model_to_save = calibrator if calibrator is not None else pipe\n",
    "model_path = MODEL_DIR / 'pd_logr1.joblib'\n",
    "joblib.dump(model_to_save, model_path)\n",
    "\n",
    "meta = {\n",
    "    'model_file': str(model_path),\n",
    "    'features': FEATURE_ORDER,\n",
    "    'target': TARGET_COL,\n",
    "    'n_train': int(len(y_train)),\n",
    "    'n_test': int(len(y_test)),\n",
    "    'metrics': {\n",
    "        'auc': float(roc_auc_score(y_test, model_to_save.predict_proba(X_test)[:,1])),\n",
    "        'ks':  float(np.max(roc_curve(y_test, model_to_save.predict_proba(X_test)[:,1])[1] - \n",
    "                            roc_curve(y_test, model_to_save.predict_proba(X_test)[:,1])[0])),\n",
    "        'brier': float(brier_score_loss(y_test, model_to_save.predict_proba(X_test)[:,1]))\n",
    "    },\n",
    "    'calibrated': calibrator is not None,\n",
    "    'created_at': int(time.time())\n",
    "}\n",
    "\n",
    "report_path = REPORT_DIR / 'risco_baseline.json'\n",
    "with open(report_path, 'w') as f:\n",
    "    json.dump(meta, f, indent=2)\n",
    "\n",
    "print('Modelo salvo em:', model_path)\n",
    "print('Relatório salvo em:', report_path)\n"
   ]
  },
  {
   "cell_type": "code",
   "execution_count": null,
   "id": "2092a5f4",
   "metadata": {},
   "outputs": [],
   "source": [
    "# Prévia: tabela com 5 exemplos do conjunto de teste (PD previsto)\n",
    "preview = pd.DataFrame(X_test[:5], columns=FEATURE_ORDER).copy()\n",
    "preview['pd_pred'] = model_to_save.predict_proba(X_test[:5])[:,1]\n",
    "preview.reset_index(drop=True, inplace=True)\n",
    "preview"
   ]
  }
 ],
 "metadata": {
  "kernelspec": {
   "display_name": ".venv",
   "language": "python",
   "name": "python3"
  },
  "language_info": {
   "codemirror_mode": {
    "name": "ipython",
    "version": 3
   },
   "file_extension": ".py",
   "mimetype": "text/x-python",
   "name": "python",
   "nbconvert_exporter": "python",
   "pygments_lexer": "ipython3",
   "version": "3.10.18"
  }
 },
 "nbformat": 4,
 "nbformat_minor": 5
}
